{
 "cells": [
  {
   "cell_type": "markdown",
   "metadata": {},
   "source": [
    "# **Projeto 3 - Ciência dos dados**\n",
    "______\n",
    "\n",
    "## Análise dos Airbnb nas maiores cidades americanas\n",
    "\n",
    "**Integrantes:** Bruno Kaczelnik, Guilherme Lotaif, Renato Tajima e Thiago Verardo.\n",
    "\n",
    "**Fonte do dataset:** www.kaggle.com/rudymizrahi/airbnb-listings-in-major-us-cities-deloitte-ml\n",
    "\n",
    "### Objetivo:\n",
    "___"
   ]
  },
  {
   "cell_type": "code",
   "execution_count": 1,
   "metadata": {},
   "outputs": [],
   "source": [
    "#Importando bibliotecas:\n",
    "import pandas as pd\n",
    "import numpy as np\n",
    "import matplotlib.pyplot as plt\n",
    "from scipy.stats import norm,probplot\n",
    "plt.style.use('ggplot')\n",
    "\n",
    "from sklearn.model_selection import train_test_split"
   ]
  },
  {
   "cell_type": "markdown",
   "metadata": {},
   "source": [
    "___\n",
    "### Importando o dataset:"
   ]
  },
  {
   "cell_type": "code",
   "execution_count": 2,
   "metadata": {},
   "outputs": [],
   "source": [
    "#Importado o arquivo:\n",
    "df = pd.read_csv('airbnb-listings-in-major-us-cities-deloitte-ml/train.csv')"
   ]
  },
  {
   "cell_type": "code",
   "execution_count": 3,
   "metadata": {},
   "outputs": [
    {
     "name": "stdout",
     "output_type": "stream",
     "text": [
      "O Dataframe possui 74111 linhas por 29 colunas.\n"
     ]
    }
   ],
   "source": [
    "#Análisando o tamanho do dataframe:\n",
    "linhas, colunas = df.shape\n",
    "print(\"O Dataframe possui {0} linhas por {1} colunas.\".format(linhas, colunas))"
   ]
  },
  {
   "cell_type": "markdown",
   "metadata": {},
   "source": [
    "#### Limpando o dataframe para ser análisado:\n",
    "Esta etapa consiste em uma preparação do dataframe para facilitar a análise no mesmo, e evitar a ocorrência de complicações ou erros que atrapalhem nossso classificador. Portanto iremos limpar os titulos de cada coluna e remover os valores nulos de cada categoria"
   ]
  },
  {
   "cell_type": "code",
   "execution_count": 4,
   "metadata": {},
   "outputs": [],
   "source": [
    "#Removendo os espaços em branco dos nomes das colunas:\n",
    "df.columns = [espaços.strip() for espaços in df.columns.tolist()]"
   ]
  },
  {
   "cell_type": "code",
   "execution_count": 9,
   "metadata": {},
   "outputs": [],
   "source": [
    "#Apagando valores nulos que podem causar problemas posteriores:\n",
    "df = df.dropna(axis=0, subset=['bathrooms','first_review','host_has_profile_pic','host_identity_verified',\n",
    "                               'host_response_rate','host_since','last_review','neighbourhood','review_scores_rating',\n",
    "                               'thumbnail_url','thumbnail_url','zipcode','bedrooms','beds'])"
   ]
  },
  {
   "cell_type": "code",
   "execution_count": 10,
   "metadata": {},
   "outputs": [
    {
     "data": {
      "text/html": [
       "<div>\n",
       "<style scoped>\n",
       "    .dataframe tbody tr th:only-of-type {\n",
       "        vertical-align: middle;\n",
       "    }\n",
       "\n",
       "    .dataframe tbody tr th {\n",
       "        vertical-align: top;\n",
       "    }\n",
       "\n",
       "    .dataframe thead th {\n",
       "        text-align: right;\n",
       "    }\n",
       "</style>\n",
       "<table border=\"1\" class=\"dataframe\">\n",
       "  <thead>\n",
       "    <tr style=\"text-align: right;\">\n",
       "      <th></th>\n",
       "      <th>id</th>\n",
       "      <th>log_price</th>\n",
       "      <th>property_type</th>\n",
       "      <th>room_type</th>\n",
       "      <th>amenities</th>\n",
       "      <th>accommodates</th>\n",
       "      <th>bathrooms</th>\n",
       "      <th>bed_type</th>\n",
       "      <th>cancellation_policy</th>\n",
       "      <th>cleaning_fee</th>\n",
       "      <th>...</th>\n",
       "      <th>latitude</th>\n",
       "      <th>longitude</th>\n",
       "      <th>name</th>\n",
       "      <th>neighbourhood</th>\n",
       "      <th>number_of_reviews</th>\n",
       "      <th>review_scores_rating</th>\n",
       "      <th>thumbnail_url</th>\n",
       "      <th>zipcode</th>\n",
       "      <th>bedrooms</th>\n",
       "      <th>beds</th>\n",
       "    </tr>\n",
       "  </thead>\n",
       "  <tbody>\n",
       "    <tr>\n",
       "      <th>66865</th>\n",
       "      <td>4476115</td>\n",
       "      <td>4.382027</td>\n",
       "      <td>Apartment</td>\n",
       "      <td>Private room</td>\n",
       "      <td>{TV,\"Cable TV\",Internet,\"Wireless Internet\",\"A...</td>\n",
       "      <td>1</td>\n",
       "      <td>1.0</td>\n",
       "      <td>Real Bed</td>\n",
       "      <td>strict</td>\n",
       "      <td>False</td>\n",
       "      <td>...</td>\n",
       "      <td>40.711658</td>\n",
       "      <td>-73.997198</td>\n",
       "      <td>Sunny room - Prime Location</td>\n",
       "      <td>Chinatown</td>\n",
       "      <td>1</td>\n",
       "      <td>100.0</td>\n",
       "      <td>https://a0.muscache.com/im/pictures/ba7328ac-a...</td>\n",
       "      <td>10038</td>\n",
       "      <td>1.0</td>\n",
       "      <td>1.0</td>\n",
       "    </tr>\n",
       "    <tr>\n",
       "      <th>54713</th>\n",
       "      <td>6743603</td>\n",
       "      <td>3.891820</td>\n",
       "      <td>Apartment</td>\n",
       "      <td>Private room</td>\n",
       "      <td>{TV,\"Wireless Internet\",\"Air conditioning\",Kit...</td>\n",
       "      <td>2</td>\n",
       "      <td>1.0</td>\n",
       "      <td>Real Bed</td>\n",
       "      <td>strict</td>\n",
       "      <td>True</td>\n",
       "      <td>...</td>\n",
       "      <td>40.702343</td>\n",
       "      <td>-73.908153</td>\n",
       "      <td>Gorgeous bedroom in the Heart of Bushwick!</td>\n",
       "      <td>Ridgewood</td>\n",
       "      <td>4</td>\n",
       "      <td>90.0</td>\n",
       "      <td>https://a0.muscache.com/im/pictures/9bba3c49-d...</td>\n",
       "      <td>11385</td>\n",
       "      <td>1.0</td>\n",
       "      <td>1.0</td>\n",
       "    </tr>\n",
       "  </tbody>\n",
       "</table>\n",
       "<p>2 rows × 29 columns</p>\n",
       "</div>"
      ],
      "text/plain": [
       "            id  log_price property_type     room_type  \\\n",
       "66865  4476115   4.382027     Apartment  Private room   \n",
       "54713  6743603   3.891820     Apartment  Private room   \n",
       "\n",
       "                                               amenities  accommodates  \\\n",
       "66865  {TV,\"Cable TV\",Internet,\"Wireless Internet\",\"A...             1   \n",
       "54713  {TV,\"Wireless Internet\",\"Air conditioning\",Kit...             2   \n",
       "\n",
       "       bathrooms  bed_type cancellation_policy  cleaning_fee  ...    latitude  \\\n",
       "66865        1.0  Real Bed              strict         False  ...   40.711658   \n",
       "54713        1.0  Real Bed              strict          True  ...   40.702343   \n",
       "\n",
       "       longitude                                        name neighbourhood  \\\n",
       "66865 -73.997198                 Sunny room - Prime Location     Chinatown   \n",
       "54713 -73.908153  Gorgeous bedroom in the Heart of Bushwick!     Ridgewood   \n",
       "\n",
       "      number_of_reviews review_scores_rating  \\\n",
       "66865                 1                100.0   \n",
       "54713                 4                 90.0   \n",
       "\n",
       "                                           thumbnail_url zipcode bedrooms  \\\n",
       "66865  https://a0.muscache.com/im/pictures/ba7328ac-a...   10038      1.0   \n",
       "54713  https://a0.muscache.com/im/pictures/9bba3c49-d...   11385      1.0   \n",
       "\n",
       "       beds  \n",
       "66865   1.0  \n",
       "54713   1.0  \n",
       "\n",
       "[2 rows x 29 columns]"
      ]
     },
     "execution_count": 10,
     "metadata": {},
     "output_type": "execute_result"
    }
   ],
   "source": [
    "df.sample(2)"
   ]
  },
  {
   "cell_type": "markdown",
   "metadata": {},
   "source": [
    "#### Transformando categorias qualiativas em quantiativas:\n",
    "\n",
    "O método usado para efetuar essa conversão é chamado de **One Hot Encoding**, que transforma variaveis categóricas em vetores binarios. Tal método transforma todas as variaveis em 0 menos a do item analisado, desse modo permitindo que sejam feitam análises em cima desse dados."
   ]
  },
  {
   "cell_type": "code",
   "execution_count": 19,
   "metadata": {},
   "outputs": [],
   "source": [
    "#Função para chamar o get_dummies e remover a coluna base:\n",
    "def dummify(data, column_name):\n",
    "    df1 = data.copy()\n",
    "    df2 = pd.concat([df1.drop(column_name, axis=1), pd.get_dummies(data[column_name], prefix=column_name)], axis=1)\n",
    "    return df2"
   ]
  },
  {
   "cell_type": "code",
   "execution_count": null,
   "metadata": {},
   "outputs": [],
   "source": []
  }
 ],
 "metadata": {
  "kernelspec": {
   "display_name": "Python 3",
   "language": "python",
   "name": "python3"
  },
  "language_info": {
   "codemirror_mode": {
    "name": "ipython",
    "version": 3
   },
   "file_extension": ".py",
   "mimetype": "text/x-python",
   "name": "python",
   "nbconvert_exporter": "python",
   "pygments_lexer": "ipython3",
   "version": "3.6.4"
  }
 },
 "nbformat": 4,
 "nbformat_minor": 2
}
